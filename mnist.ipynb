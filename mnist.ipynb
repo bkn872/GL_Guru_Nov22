{
  "cells": [
    {
      "cell_type": "markdown",
      "metadata": {
        "id": "view-in-github",
        "colab_type": "text"
      },
      "source": [
        "<a href=\"https://colab.research.google.com/github/bkn872/GL_Guru_Nov22/blob/NN/mnist.ipynb\" target=\"_parent\"><img src=\"https://colab.research.google.com/assets/colab-badge.svg\" alt=\"Open In Colab\"/></a>"
      ]
    },
    {
      "cell_type": "markdown",
      "metadata": {
        "id": "wfWJSlkItKxw"
      },
      "source": [
        "# Using neural networks on MNIST Data "
      ]
    },
    {
      "cell_type": "code",
      "execution_count": null,
      "metadata": {
        "id": "WpoxCD28AOAj"
      },
      "outputs": [],
      "source": [
        "import pandas as pd\n",
        "import numpy as np\n",
        "import keras\n",
        "from tensorflow.keras.utils import to_categorical\n",
        "import warnings\n",
        "warnings.filterwarnings('ignore')\n",
        "from tensorflow.keras.callbacks import ModelCheckpoint, ReduceLROnPlateau"
      ]
    },
    {
      "cell_type": "markdown",
      "metadata": {
        "id": "tcMJzRU-tS9B"
      },
      "source": [
        "## Reading the data"
      ]
    },
    {
      "cell_type": "code",
      "execution_count": null,
      "metadata": {
        "colab": {
          "base_uri": "https://localhost:8080/"
        },
        "id": "GxJJQImBNTia",
        "outputId": "c6067090-d325-4d30-ff3d-054ed1cf8efd"
      },
      "outputs": [
        {
          "output_type": "stream",
          "name": "stdout",
          "text": [
            "Downloading data from https://storage.googleapis.com/tensorflow/tf-keras-datasets/mnist.npz\n",
            "11490434/11490434 [==============================] - 0s 0us/step\n"
          ]
        }
      ],
      "source": [
        "from keras.datasets import mnist\n",
        "(x_train, y_train), (x_test, y_test) = mnist.load_data()"
      ]
    },
    {
      "cell_type": "code",
      "execution_count": null,
      "metadata": {
        "colab": {
          "base_uri": "https://localhost:8080/"
        },
        "id": "Q_4ngGpdNwpg",
        "outputId": "4f3ae52f-3bd0-4868-dc6d-23d42378608b"
      },
      "outputs": [
        {
          "output_type": "stream",
          "name": "stdout",
          "text": [
            "(60000, 28, 28)\n",
            "(10000, 28, 28)\n",
            "(60000,)\n",
            "(10000,)\n"
          ]
        }
      ],
      "source": [
        "print(x_train.shape)\n",
        "print(x_test.shape)\n",
        "print(y_train.shape)\n",
        "print(y_test.shape)"
      ]
    },
    {
      "cell_type": "code",
      "execution_count": null,
      "metadata": {
        "colab": {
          "base_uri": "https://localhost:8080/"
        },
        "id": "gBxa4e3-Xeex",
        "outputId": "8d4d37f0-f8f6-4896-abd2-b2528e0cf8c1"
      },
      "outputs": [
        {
          "output_type": "execute_result",
          "data": {
            "text/plain": [
              "5"
            ]
          },
          "metadata": {},
          "execution_count": 4
        }
      ],
      "source": [
        "y_train[0]"
      ]
    },
    {
      "cell_type": "markdown",
      "metadata": {
        "id": "7yi_xTOEtYw0"
      },
      "source": [
        "## Visualizing images from our data"
      ]
    },
    {
      "cell_type": "code",
      "execution_count": null,
      "metadata": {
        "colab": {
          "base_uri": "https://localhost:8080/",
          "height": 120
        },
        "id": "4CP0IKIdOgs-",
        "outputId": "5b387d5c-d1c9-4c6a-84f0-e0c692917128"
      },
      "outputs": [
        {
          "output_type": "display_data",
          "data": {
            "text/plain": [
              "<Figure size 1000x100 with 10 Axes>"
            ],
            "image/png": "[encoded data removed]"
          },
          "metadata": {}
        },
        {
          "output_type": "stream",
          "name": "stdout",
          "text": [
            "label for each of the above image: [5 0 4 1 9 2 1 3 1 4]\n"
          ]
        }
      ],
      "source": [
        "# visualizing the first 10 images in the dataset and their labels\n",
        "%matplotlib inline\n",
        "import matplotlib.pyplot as plt\n",
        "plt.figure(figsize=(10, 1))\n",
        "for i in range(10):\n",
        "    plt.subplot(1, 10, i+1)\n",
        "    plt.imshow(x_train[i], cmap=\"gray\")\n",
        "    plt.axis('off')\n",
        "plt.show()\n",
        "print('label for each of the above image: %s' % (y_train[0:10]))"
      ]
    },
    {
      "cell_type": "markdown",
      "metadata": {
        "id": "V8RfTsqEth4T"
      },
      "source": [
        "## Normalizing our train and test data"
      ]
    },
    {
      "cell_type": "code",
      "execution_count": null,
      "metadata": {
        "colab": {
          "base_uri": "https://localhost:8080/"
        },
        "id": "qzz6OTOdOzg_",
        "outputId": "41d4e94a-ae8c-4ea0-ed61-70b0831fa950"
      },
      "outputs": [
        {
          "output_type": "stream",
          "name": "stdout",
          "text": [
            "Training set (60000, 784) (60000,)\n",
            "Test set (10000, 784) (10000,)\n"
          ]
        }
      ],
      "source": [
        "# Flatten the images\n",
        "image_vector_size = 28*28\n",
        "x_train = x_train.reshape(x_train.shape[0], image_vector_size)\n",
        "x_test = x_test.reshape(x_test.shape[0], image_vector_size)\n",
        "\n",
        "# # normalize inputs from 0-255 to 0-1\n",
        "x_train = x_train / 255.0\n",
        "x_test = x_test / 255.0\n",
        "\n",
        "print('Training set', x_train.shape, y_train.shape)\n",
        "print('Test set', x_test.shape, y_test.shape)"
      ]
    },
    {
      "cell_type": "markdown",
      "metadata": {
        "id": "u80k7vtPtpKc"
      },
      "source": [
        "## OHE the target variables"
      ]
    },
    {
      "cell_type": "code",
      "execution_count": null,
      "metadata": {
        "id": "4EzccWfUPl_l"
      },
      "outputs": [],
      "source": [
        "# Convert to \"one-hot\" vectors using the to_categorical function\n",
        "num_classes = 10\n",
        "y_train = to_categorical(y_train, num_classes)\n",
        "y_test_cat=to_categorical(y_test,num_classes)"
      ]
    },
    {
      "cell_type": "code",
      "execution_count": null,
      "metadata": {
        "colab": {
          "base_uri": "https://localhost:8080/"
        },
        "id": "Ouv10gYwZFfR",
        "outputId": "f9a7ee8f-fba4-4ccb-c439-527041698b85"
      },
      "outputs": [
        {
          "output_type": "stream",
          "name": "stdout",
          "text": [
            "First 5 training lables as one-hot encoded vectors:\n",
            " [[0. 0. 0. 0. 0. 1. 0. 0. 0. 0.]\n",
            " [1. 0. 0. 0. 0. 0. 0. 0. 0. 0.]\n",
            " [0. 0. 0. 0. 1. 0. 0. 0. 0. 0.]\n",
            " [0. 1. 0. 0. 0. 0. 0. 0. 0. 0.]\n",
            " [0. 0. 0. 0. 0. 0. 0. 0. 0. 1.]]\n"
          ]
        }
      ],
      "source": [
        "print(\"First 5 training lables as one-hot encoded vectors:\\n\", y_train[:5])"
      ]
    },
    {
      "cell_type": "markdown",
      "metadata": {
        "id": "la0FEOcCttt9"
      },
      "source": [
        "## Definfing the sequential Model"
      ]
    },
    {
      "cell_type": "code",
      "execution_count": null,
      "metadata": {
        "id": "_LvEzPxfQhVj"
      },
      "outputs": [],
      "source": [
        "# define model\n",
        "\n",
        "from tensorflow.keras import losses\n",
        "from tensorflow.keras import optimizers\n",
        "from tensorflow.keras import Sequential\n",
        "from tensorflow.keras.layers import Dense\n",
        "\n",
        "image_size=28*28\n",
        "\n",
        "# create model\n",
        "model = Sequential()  \n",
        "\n",
        "model.add(Dense(256, activation='relu',kernel_initializer='he_uniform',input_shape=(image_size,))) ###Multiple Dense units with Relu activation\n",
        "model.add(Dense(64, activation='relu',kernel_initializer='he_uniform'))\n",
        "model.add(Dense(64, activation='relu',kernel_initializer='he_uniform'))\n",
        "model.add(Dense(32, activation='relu',kernel_initializer='he_uniform'))\n",
        "\n",
        "model.add(Dense(num_classes, activation='softmax')) ### For multiclass classification Softmax is used "
      ]
    },
    {
      "cell_type": "code",
      "execution_count": null,
      "metadata": {
        "id": "P3751ptOSe3r",
        "colab": {
          "base_uri": "https://localhost:8080/"
        },
        "outputId": "e2e75eed-7460-4789-af9f-eefd045f1de3"
      },
      "outputs": [
        {
          "output_type": "stream",
          "name": "stderr",
          "text": [
            "WARNING:absl:`lr` is deprecated in Keras optimizer, please use `learning_rate` or use the legacy optimizer, e.g.,tf.keras.optimizers.legacy.Adam.\n"
          ]
        }
      ],
      "source": [
        "# Compile model\n",
        "#RMS_prop=optimizers.RMSprop()   ## we can similarly use different optimizers like RMSprop, Adagrad and SGD \n",
        "adam = optimizers.Adam(lr=1e-3)\n",
        "model.compile(loss=losses.categorical_crossentropy, optimizer=adam, metrics=['accuracy']) ### Loss function = Categorical cross entropy"
      ]
    },
    {
      "cell_type": "code",
      "execution_count": null,
      "metadata": {
        "colab": {
          "base_uri": "https://localhost:8080/"
        },
        "id": "qMTLLs33S446",
        "outputId": "ee100289-479d-4ecd-fa47-36e902384af5"
      },
      "outputs": [
        {
          "output_type": "stream",
          "name": "stdout",
          "text": [
            "Model: \"sequential\"\n",
            "_________________________________________________________________\n",
            " Layer (type)                Output Shape              Param #   \n",
            "=================================================================\n",
            " dense (Dense)               (None, 256)               200960    \n",
            "                                                                 \n",
            " dense_1 (Dense)             (None, 64)                16448     \n",
            "                                                                 \n",
            " dense_2 (Dense)             (None, 64)                4160      \n",
            "                                                                 \n",
            " dense_3 (Dense)             (None, 32)                2080      \n",
            "                                                                 \n",
            " dense_4 (Dense)             (None, 10)                330       \n",
            "                                                                 \n",
            "=================================================================\n",
            "Total params: 223,978\n",
            "Trainable params: 223,978\n",
            "Non-trainable params: 0\n",
            "_________________________________________________________________\n"
          ]
        }
      ],
      "source": [
        "## Looking into our base model\n",
        "model.summary()"
      ]
    },
    {
      "cell_type": "code",
      "execution_count": null,
      "metadata": {
        "id": "WvZ9dJ8M4D9U"
      },
      "outputs": [],
      "source": [
        "checkpoint = ModelCheckpoint(\"model_weights.h5\",monitor='val_accuracy',\n",
        "                            save_weights_only=True, mode='max',verbose=1)\n",
        "reduce_lr = ReduceLROnPlateau(monitor='val_loss',factor=0.1,patience=2,min_lr=0.00001,model='auto')\n",
        "\n",
        "callbacks = [checkpoint,reduce_lr]"
      ]
    },
    {
      "cell_type": "code",
      "execution_count": null,
      "metadata": {
        "colab": {
          "base_uri": "https://localhost:8080/"
        },
        "id": "yLVwW55hSa67",
        "outputId": "d34c927b-6907-4723-9784-81223e144e17"
      },
      "outputs": [
        {
          "output_type": "stream",
          "name": "stdout",
          "text": [
            "Epoch 1/10\n",
            "\n",
            "Epoch 1: saving model to model_weights.h5\n",
            "375/375 - 4s - loss: 0.3344 - accuracy: 0.9022 - val_loss: 0.1471 - val_accuracy: 0.9584 - lr: 0.0010 - 4s/epoch - 12ms/step\n",
            "Epoch 2/10\n",
            "\n",
            "Epoch 2: saving model to model_weights.h5\n",
            "375/375 - 3s - loss: 0.1219 - accuracy: 0.9643 - val_loss: 0.1160 - val_accuracy: 0.9654 - lr: 0.0010 - 3s/epoch - 9ms/step\n",
            "Epoch 3/10\n",
            "\n",
            "Epoch 3: saving model to model_weights.h5\n",
            "375/375 - 6s - loss: 0.0839 - accuracy: 0.9741 - val_loss: 0.0976 - val_accuracy: 0.9705 - lr: 0.0010 - 6s/epoch - 16ms/step\n",
            "Epoch 4/10\n",
            "\n",
            "Epoch 4: saving model to model_weights.h5\n",
            "375/375 - 5s - loss: 0.0601 - accuracy: 0.9810 - val_loss: 0.0910 - val_accuracy: 0.9728 - lr: 0.0010 - 5s/epoch - 14ms/step\n",
            "Epoch 5/10\n",
            "\n",
            "Epoch 5: saving model to model_weights.h5\n",
            "375/375 - 5s - loss: 0.0437 - accuracy: 0.9864 - val_loss: 0.1031 - val_accuracy: 0.9714 - lr: 0.0010 - 5s/epoch - 13ms/step\n",
            "Epoch 6/10\n",
            "\n",
            "Epoch 6: saving model to model_weights.h5\n",
            "375/375 - 7s - loss: 0.0345 - accuracy: 0.9891 - val_loss: 0.1074 - val_accuracy: 0.9714 - lr: 0.0010 - 7s/epoch - 18ms/step\n",
            "Epoch 7/10\n",
            "\n",
            "Epoch 7: saving model to model_weights.h5\n",
            "375/375 - 5s - loss: 0.0144 - accuracy: 0.9959 - val_loss: 0.0775 - val_accuracy: 0.9786 - lr: 1.0000e-04 - 5s/epoch - 13ms/step\n",
            "Epoch 8/10\n",
            "\n",
            "Epoch 8: saving model to model_weights.h5\n",
            "375/375 - 6s - loss: 0.0092 - accuracy: 0.9982 - val_loss: 0.0776 - val_accuracy: 0.9793 - lr: 1.0000e-04 - 6s/epoch - 16ms/step\n",
            "Epoch 9/10\n",
            "\n",
            "Epoch 9: saving model to model_weights.h5\n",
            "375/375 - 5s - loss: 0.0074 - accuracy: 0.9986 - val_loss: 0.0788 - val_accuracy: 0.9793 - lr: 1.0000e-04 - 5s/epoch - 14ms/step\n",
            "Epoch 10/10\n",
            "\n",
            "Epoch 10: saving model to model_weights.h5\n",
            "375/375 - 4s - loss: 0.0060 - accuracy: 0.9991 - val_loss: 0.0780 - val_accuracy: 0.9797 - lr: 1.0000e-05 - 4s/epoch - 11ms/step\n"
          ]
        }
      ],
      "source": [
        "# Fit the model\n",
        "history=model.fit(x_train, y_train, validation_split=0.2, epochs=10, batch_size=128, verbose=2,callbacks=callbacks)"
      ]
    },
    {
      "cell_type": "code",
      "execution_count": null,
      "metadata": {
        "id": "B8GLais7XBDn",
        "colab": {
          "base_uri": "https://localhost:8080/"
        },
        "outputId": "4961c3f0-6040-4bc1-8f8e-e4716e55fce6"
      },
      "outputs": [
        {
          "output_type": "stream",
          "name": "stdout",
          "text": [
            "313/313 [==============================] - 1s 2ms/step\n"
          ]
        }
      ],
      "source": [
        "# predicting the model on test data\n",
        "y_pred=model.predict(x_test)\n"
      ]
    },
    {
      "cell_type": "code",
      "execution_count": null,
      "metadata": {
        "colab": {
          "base_uri": "https://localhost:8080/"
        },
        "id": "K01XP9CNaxyY",
        "outputId": "7fba771f-2a2b-49e0-c26e-501d2f06b0fc"
      },
      "outputs": [
        {
          "output_type": "execute_result",
          "data": {
            "text/plain": [
              "array([4.04886578e-08, 1.07651985e-08, 3.24053076e-07, 1.71970569e-05,\n",
              "       2.31960284e-11, 2.00807321e-07, 4.75863793e-10, 9.99980390e-01,\n",
              "       1.39901104e-07, 1.60460525e-06], dtype=float32)"
            ]
          },
          "metadata": {},
          "execution_count": 15
        }
      ],
      "source": [
        "y_pred[0]"
      ]
    },
    {
      "cell_type": "code",
      "execution_count": null,
      "metadata": {
        "id": "5D5FLvn3X_VN"
      },
      "outputs": [],
      "source": [
        "# As our outputs are probabilities so we will try to get the output class from these probablities by getting the maximum value\n",
        "y_pred_final=[]\n",
        "for i in y_pred:\n",
        "  y_pred_final.append(np.argmax(i))"
      ]
    },
    {
      "cell_type": "code",
      "execution_count": null,
      "metadata": {
        "colab": {
          "base_uri": "https://localhost:8080/"
        },
        "id": "SM0tKCI9bByz",
        "outputId": "4b45e54a-6f0e-493a-a02d-dc4b5f77e5a5"
      },
      "outputs": [
        {
          "output_type": "execute_result",
          "data": {
            "text/plain": [
              "7"
            ]
          },
          "metadata": {},
          "execution_count": 17
        }
      ],
      "source": [
        "y_pred_final[0]\n"
      ]
    },
    {
      "cell_type": "markdown",
      "metadata": {
        "id": "dQ__UZypubY5"
      },
      "source": [
        "## Generating classification report"
      ]
    },
    {
      "cell_type": "code",
      "execution_count": null,
      "metadata": {
        "colab": {
          "base_uri": "https://localhost:8080/"
        },
        "id": "G8WR5thXW1er",
        "outputId": "a16c1ea7-cd4b-4272-aeb5-9e62a2f1dda2"
      },
      "outputs": [
        {
          "output_type": "stream",
          "name": "stdout",
          "text": [
            "              precision    recall  f1-score   support\n",
            "\n",
            "           0       0.98      0.99      0.99       980\n",
            "           1       0.99      0.99      0.99      1135\n",
            "           2       0.98      0.98      0.98      1032\n",
            "           3       0.97      0.99      0.98      1010\n",
            "           4       0.98      0.98      0.98       982\n",
            "           5       0.99      0.97      0.98       892\n",
            "           6       0.98      0.98      0.98       958\n",
            "           7       0.98      0.98      0.98      1028\n",
            "           8       0.97      0.97      0.97       974\n",
            "           9       0.98      0.97      0.98      1009\n",
            "\n",
            "    accuracy                           0.98     10000\n",
            "   macro avg       0.98      0.98      0.98     10000\n",
            "weighted avg       0.98      0.98      0.98     10000\n",
            "\n"
          ]
        }
      ],
      "source": [
        "from sklearn.metrics import classification_report\n",
        "print(classification_report(y_test,y_pred_final))"
      ]
    },
    {
      "cell_type": "markdown",
      "metadata": {
        "id": "CpRdFoieupqh"
      },
      "source": [
        "## Confusion Matrix"
      ]
    },
    {
      "cell_type": "code",
      "execution_count": null,
      "metadata": {
        "colab": {
          "base_uri": "https://localhost:8080/",
          "height": 619
        },
        "id": "6VdYmPDgZdL8",
        "outputId": "a5f40ccb-ec0d-4720-ec79-ffe4fb700c41"
      },
      "outputs": [
        {
          "output_type": "display_data",
          "data": {
            "text/plain": [
              "<Figure size 1000x700 with 2 Axes>"
            ],
            "image/png": "[encoded data removed]"
          },
          "metadata": {}
        }
      ],
      "source": [
        "from sklearn.metrics import confusion_matrix\n",
        "import seaborn as sns\n",
        "\n",
        "cm=confusion_matrix(y_test,y_pred_final)\n",
        "\n",
        "plt.figure(figsize=(10,7))\n",
        "sns.heatmap(cm,annot=True,fmt='d')\n",
        "plt.xlabel('Predicted')\n",
        "plt.ylabel('Truth')\n",
        "plt.show()"
      ]
    },
    {
      "cell_type": "markdown",
      "metadata": {
        "id": "GLhh3nxauyht"
      },
      "source": [
        "## Misclassified images"
      ]
    },
    {
      "cell_type": "code",
      "execution_count": null,
      "metadata": {
        "colab": {
          "base_uri": "https://localhost:8080/"
        },
        "id": "7FV3HGR7bMn9",
        "outputId": "93155e5b-0e89-47ff-9ab1-730014f0d02d"
      },
      "outputs": [
        {
          "output_type": "stream",
          "name": "stdout",
          "text": [
            "[115, 151, 247, 274, 321, 340, 381, 445, 447, 448, 495, 582, 619, 659, 684, 723, 839, 947, 951, 1003, 1014, 1039, 1044, 1112, 1128, 1226, 1232, 1242, 1247, 1251, 1319, 1328, 1364, 1378, 1393, 1395, 1444, 1522, 1530, 1549, 1553, 1609, 1678, 1681, 1717, 1751, 1790, 1850, 1901, 1984, 2035, 2044, 2053, 2098, 2109, 2118, 2129, 2130, 2135, 2148, 2182, 2224, 2272, 2291, 2293, 2369, 2387, 2414, 2488, 2582, 2597, 2607, 2648, 2654, 2810, 2877, 2921, 2939, 2953, 3030, 3073, 3117, 3375, 3422, 3451, 3503, 3520, 3542, 3558, 3567, 3681, 3702, 3727, 3751, 3776, 3780, 3808, 3818, 3838, 3869, 3893, 3902, 3906, 3926, 3941, 3976, 3985, 4065, 4078, 4123, 4140, 4163, 4176, 4199, 4201, 4207, 4224, 4248, 4259, 4289, 4294, 4360, 4369, 4443, 4497, 4536, 4731, 4807, 4814, 4823, 4860, 4879, 4880, 4890, 4943, 5457, 5495, 5600, 5634, 5642, 5676, 5734, 5757, 5887, 5936, 5937, 5955, 5972, 5973, 5997, 6011, 6023, 6059, 6071, 6166, 6505, 6555, 6558, 6559, 6572, 6574, 6597, 6651, 6755, 6783, 6847, 7216, 7921, 8094, 8255, 8277, 8311, 8325, 8456, 8522, 8527, 9009, 9015, 9024, 9280, 9587, 9634, 9664, 9669, 9679, 9729, 9745, 9768, 9770, 9783, 9839, 9858, 9944, 9982]\n",
            "194\n"
          ]
        }
      ],
      "source": [
        "index = 0\n",
        "misclassified_images = []\n",
        "for label, predict in zip(y_test, y_pred_final):\n",
        "    if label != predict: \n",
        "        misclassified_images.append(index)\n",
        "    index +=1\n",
        "print(misclassified_images)\n",
        "print(len(misclassified_images))"
      ]
    },
    {
      "cell_type": "markdown",
      "metadata": {
        "id": "5j1U2Js1u4OB"
      },
      "source": [
        "## Predicting the output"
      ]
    },
    {
      "cell_type": "code",
      "execution_count": null,
      "metadata": {
        "colab": {
          "base_uri": "https://localhost:8080/",
          "height": 522
        },
        "collapsed": true,
        "id": "T6fN12oQUIfC",
        "outputId": "22543f42-36a8-4c09-c84f-b9b6238f6f03"
      },
      "outputs": [
        {
          "output_type": "stream",
          "name": "stdout",
          "text": [
            "1/1 [==============================] - 0s 23ms/step\n",
            "Was predicted  0\n",
            "Was labeled  6\n",
            "Predicted Probabilities:  [[9.8752117e-01 1.0694294e-09 1.8560837e-06 3.3248528e-09 1.0807448e-08\n",
            "  1.1743644e-04 1.1143393e-02 1.2160440e-03 5.0682413e-08 1.3692599e-08]]\n"
          ]
        },
        {
          "output_type": "display_data",
          "data": {
            "text/plain": [
              "<Figure size 640x480 with 1 Axes>"
            ],
            "image/png": "[encoded data removed]"
          },
          "metadata": {}
        }
      ],
      "source": [
        "image_index = 445\n",
        "plt.imshow(x_test[image_index].reshape(28, 28),cmap='Greys')\n",
        "pred = model.predict(x_test[image_index].reshape(-1, 784))\n",
        "print(\"Was predicted \",pred.argmax())\n",
        "print(\"Was labeled \",y_test[image_index])\n",
        "print(\"Predicted Probabilities: \",pred)"
      ]
    },
    {
      "cell_type": "markdown",
      "metadata": {
        "id": "paaC3Etwu_EI"
      },
      "source": [
        "## Accuracy curve"
      ]
    },
    {
      "cell_type": "code",
      "execution_count": null,
      "metadata": {
        "colab": {
          "base_uri": "https://localhost:8080/",
          "height": 472
        },
        "id": "WsYXFGdydw-i",
        "outputId": "cf4da743-b4d2-4bd7-bb7b-1c863156ea1d"
      },
      "outputs": [
        {
          "output_type": "display_data",
          "data": {
            "text/plain": [
              "<Figure size 640x480 with 1 Axes>"
            ],
            "image/png": "[encoded data removed]"
          },
          "metadata": {}
        }
      ],
      "source": [
        "loss, accuracy  = model.evaluate(x_test, y_test_cat, verbose=False)\n",
        "    \n",
        "plt.plot(history.history['accuracy'])\n",
        "plt.plot(history.history['val_accuracy'])\n",
        "plt.title('model accuracy')\n",
        "plt.ylabel('accuracy')\n",
        "plt.xlabel('epoch')\n",
        "plt.legend(['training', 'validation'], loc='best')\n",
        "plt.show()"
      ]
    },
    {
      "cell_type": "markdown",
      "metadata": {
        "id": "IWvMbLVsFk2P"
      },
      "source": [
        "#### Happy Learning"
      ]
    }
  ],
  "metadata": {
    "accelerator": "TPU",
    "colab": {
      "provenance": [],
      "include_colab_link": true
    },
    "kernelspec": {
      "display_name": "Python 3",
      "language": "python",
      "name": "python3"
    },
    "language_info": {
      "codemirror_mode": {
        "name": "ipython",
        "version": 3
      },
      "file_extension": ".py",
      "mimetype": "text/x-python",
      "name": "python",
      "nbconvert_exporter": "python",
      "pygments_lexer": "ipython3",
      "version": "3.8.8"
    }
  },
  "nbformat": 4,
  "nbformat_minor": 0
}